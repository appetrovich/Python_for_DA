{
 "cells": [
  {
   "cell_type": "markdown",
   "metadata": {},
   "source": [
    "# Задание 1\n",
    "\n",
    "(**NB.** для запуска примеров кода нужен Python версии не ниже **3.10**, допускается использование других версий, в этом случае нужно самостоятельно избавиться от конструкции `match`).\n",
    "\n",
    "Есть следующий код для [автоматического дифференцирования](https://en.wikipedia.org/wiki/Automatic_differentiation), в котором используются особенности системы типов языка `Python`: "
   ]
  },
  {
   "cell_type": "code",
   "execution_count": 1,
   "metadata": {},
   "outputs": [],
   "source": [
    "from dataclasses import dataclass\n",
    "from typing import Union, Callable\n",
    "from numbers import Number\n",
    "import math\n",
    "import re\n",
    "\n",
    "@dataclass\n",
    "class Dual:\n",
    "    value: float\n",
    "    d: float\n",
    "\n",
    "    def __add__(self, other: Union[\"Dual\", Number]) -> \"Dual\":\n",
    "         match other:\n",
    "            case Dual(o_value, o_d):\n",
    "                return Dual(self.value + o_value, self.d + o_d)\n",
    "            case Number():\n",
    "                return Dual(float(other) + self.value, self.d)\n",
    "\n",
    "    def __mul__(self, other: Union[\"Dual\", Number]) -> \"Dual\":\n",
    "         match other:\n",
    "            case Dual(o_value, o_d):\n",
    "                return Dual(self.value * o_value, self.value * o_d + self.d * o_value)\n",
    "            case Number():\n",
    "                return Dual(float(other) * self.value, float(other) * self.d)    \n",
    "\n",
    "    __rmul__ = __mul__  # https://docs.python.org/3/reference/datamodel.html#object.__mul__\n",
    "    __radd__ = __add__  # https://docs.python.org/3/reference/datamodel.html#object.__radd__\n",
    "\n",
    "\n",
    "def diff(func: Callable[[float], float]) -> Callable[[float], float]:\n",
    "    return lambda x: func(Dual(x, 1.0)).d "
   ]
  },
  {
   "cell_type": "markdown",
   "metadata": {},
   "source": [
    "Поддерживаются две операции - сложение и умножение. Применить можно так:"
   ]
  },
  {
   "cell_type": "code",
   "execution_count": 8,
   "metadata": {},
   "outputs": [
    {
     "data": {
      "text/plain": [
       "22.0"
      ]
     },
     "execution_count": 8,
     "metadata": {},
     "output_type": "execute_result"
    }
   ],
   "source": [
    "# Функция, которую будем дифференцировать\n",
    "def f(x: float) -> float:\n",
    "    return 5 * x * x + 2 * x + 2\n",
    "\n",
    "f_diff = diff(f)\n",
    "\n",
    "# значение производной в точке x = 2\n",
    "f_diff(2)"
   ]
  },
  {
   "cell_type": "markdown",
   "metadata": {},
   "source": [
    "## Задание 1.1 (5 баллов)\n",
    "\n",
    "Какие недостатки вы видите в данной реализации? Реализуйте поддержку (полностью самостоятельно или модифицируя приведенный код):\n",
    "- [унарных операций](https://docs.python.org/3/reference/datamodel.html#object.__neg__) \n",
    "- деления\n",
    "- возведения в степень\n",
    "\n",
    "Каким образом можно проверить корректность решения?  Реализуйте достаточный, по вашему мнению, набор тестов."
   ]
  },
  {
   "cell_type": "code",
   "execution_count": 5,
   "metadata": {},
   "outputs": [],
   "source": [
    "# Унарные операции\n",
    "def dual_neg(self) -> \"Dual\":\n",
    "    return Dual(-self.value, -self.d)\n",
    "        \n",
    "def dual_pos(self):\n",
    "    return Dual(self.value, self.d)\n",
    "\n",
    "def dual_abs(self):\n",
    "    return Dual(abs(self.value), abs(self.d))\n",
    "\n",
    "def dual_invert(self):\n",
    "    return Dual(-self.value - 1, -self.d - 1) \n",
    "\n",
    "def dual_sub(self, other: Union[\"Dual\", Number]) -> \"Dual\":\n",
    "        match other:\n",
    "            case Dual(o_value, o_d):\n",
    "                return Dual(self.value - o_value, self.d - o_d)\n",
    "            case Number():\n",
    "                return Dual(self.value - float(other), self.d)\n",
    "\n",
    "#Деление\n",
    "def dual_truediv(self, other: Union[\"Dual\", Number]) -> \"Dual\":\n",
    "    match other:\n",
    "        case Dual(o_value, o_d):\n",
    "            return Dual(self.value / o_value, (self.d * o_value - self.value * o_d) / o_value ** 2)\n",
    "        case Number():\n",
    "            return Dual(self.value / float(other), self.d / float(other))    \n",
    "\n",
    "def dual_rtruediv(self, other: Number) -> \"Dual\":\n",
    "    return Dual(float(other) / self.value, - float(other) / self.d)\n",
    "\n",
    "#Возведение в степень\n",
    "def dual_pow(self: Union[\"Dual\", Number], other: Number) -> \"Dual\": \n",
    "    match self:\n",
    "        case Dual(o_value, o_d):\n",
    "            return Dual(self.value ** other, self.d * other * self.value ** (other - 1))\n",
    "        case Number:\n",
    "            return math.pow(self, other)\n",
    "\n",
    "Dual.__neg__ = dual_neg\n",
    "Dual.__pos__ = dual_pos\n",
    "Dual.__abs__ = dual_abs\n",
    "Dual.__invert__ = dual_invert\n",
    "\n",
    "Dual.__sub__ = dual_sub\n",
    "Dual.__truediv__ = dual_truediv\n",
    "Dual.__rtruediv__ = dual_rtruediv\n",
    "Dual.__pow__ = dual_pow"
   ]
  },
  {
   "cell_type": "code",
   "execution_count": 26,
   "metadata": {},
   "outputs": [
    {
     "name": "stdout",
     "output_type": "stream",
     "text": [
      "Унарные операции:\n",
      "pos Dual(value=5, d=10)\n",
      "neg Dual(value=-5, d=-10)\n",
      "abs Dual(value=5, d=10)\n",
      "inv Dual(value=-6, d=-11)\n",
      "\n",
      "Бинарные операции:\n",
      "+ Dual(value=2, d=5)\n",
      "- Dual(value=8, d=15)\n",
      "* Dual(value=-15, d=-55)\n",
      "/ Dual(value=-1.6666666666666667, d=-0.5555555555555556)\n",
      "** Dual(value=25, d=100)\n"
     ]
    }
   ],
   "source": [
    "dual_number1 = Dual(5, 10)\n",
    "dual_number2 = Dual(-3, -5)\n",
    "#dual_number3 = Dual(0, 0)\n",
    "just_number = 2\n",
    "\n",
    "print(\"Унарные операции:\")\n",
    "print(\"pos\", dual_pos(dual_number1))\n",
    "print(\"neg\", dual_neg(dual_number1))\n",
    "print(\"abs\", dual_abs(dual_number1))\n",
    "print(\"inv\", dual_invert(dual_number1))\n",
    "\n",
    "print(\"\\nБинарные операции:\")\n",
    "print(\"+\", dual_number1 + dual_number2)\n",
    "print(\"-\", dual_number1 - dual_number2)\n",
    "print(\"*\", dual_number1 * dual_number2)\n",
    "print(\"/\", dual_number1 / dual_number2)\n",
    "print(\"**\", dual_number1 ** just_number)"
   ]
  },
  {
   "cell_type": "markdown",
   "metadata": {},
   "source": [
    "## Задание 1.2 (7 баллов)\n",
    "Придумайте способ и реализуйте поддержку функций:\n",
    "- `exp()`\n",
    "- `cos()`\n",
    "- `sin()`\n",
    "- `log()`\n",
    "\n",
    "Добавьте соответствующие тесты"
   ]
  },
  {
   "cell_type": "code",
   "execution_count": 27,
   "metadata": {},
   "outputs": [],
   "source": [
    "def exp(u: Union[\"Dual\", Number]) -> \"Dual\":\n",
    "    match u:\n",
    "        case Dual(value, d):    \n",
    "            return Dual(math.exp(u.value), u.d * math.exp(u.value))     \n",
    "        case Number():\n",
    "            return math.exp(u)\n",
    "\n",
    "def cos(u: \"Dual\") -> \"Dual\":\n",
    "    match u:\n",
    "        case Dual(value, d):\n",
    "            return Dual(math.cos(u.value), -u.d * math.sin(u.value))\n",
    "        case Number():\n",
    "            return math.cos(u)\n",
    "\n",
    "def sin(u: \"Dual\") -> \"Dual\":\n",
    "    match u:\n",
    "        case Dual(value, d):\n",
    "            return Dual(math.sin(u.value), u.d * math.cos(u.value))\n",
    "        case Number():\n",
    "            return math.sin(u)\n",
    "\n",
    "def log(u: \"Dual\") -> \"Dual\":\n",
    "    match u:\n",
    "        case Dual(value, d):\n",
    "            return Dual(math.log(u.value), u.d/u.value)\n",
    "        case Number():\n",
    "            return math.log(u)"
   ]
  },
  {
   "cell_type": "code",
   "execution_count": 28,
   "metadata": {},
   "outputs": [
    {
     "name": "stdout",
     "output_type": "stream",
     "text": [
      "Dual(value=7.38905609893065, d=29.5562243957226)\n",
      "Dual(value=-0.4161468365471424, d=-3.637189707302727)\n",
      "Dual(value=0.9092974268256817, d=-1.6645873461885696)\n",
      "Dual(value=0.6931471805599453, d=2.0)\n"
     ]
    }
   ],
   "source": [
    "dual_number = Dual(2, 4)\n",
    "print(exp(dual_number))\n",
    "print(cos(dual_number))\n",
    "print(sin(dual_number))\n",
    "print(log(dual_number))"
   ]
  },
  {
   "cell_type": "markdown",
   "metadata": {},
   "source": [
    "## Задание 1.3 (3 балла)\n",
    "\n",
    "Воспользуйтесь методами **численного** дифференцирования для \"проверки\" работы кода на нескольких примерах. Например,  библиотеке `scipy` есть функция `derivative`. Или реализуйте какой-нибудь метод численного дифференцирования самостоятельно (**+5 баллов**)"
   ]
  },
  {
   "cell_type": "code",
   "execution_count": 29,
   "metadata": {},
   "outputs": [],
   "source": [
    "def f2(x: float) -> float:\n",
    "    return 5 / x ** 2 + 2\n",
    "\n",
    "def f3(x: float) -> float:\n",
    "    return x / 5 ** 2 + x / 2 + 2\n",
    "\n",
    "def f4(x: float) -> float:\n",
    "    return log(x**2) "
   ]
  },
  {
   "cell_type": "code",
   "execution_count": 30,
   "metadata": {},
   "outputs": [
    {
     "data": {
      "text/plain": [
       "-1.2499999701987008"
      ]
     },
     "execution_count": 30,
     "metadata": {},
     "output_type": "execute_result"
    }
   ],
   "source": [
    "#Численное дифференцирование\n",
    "def num_diff(func: Callable[[float], float]) -> Callable[[float], float]:\n",
    "    dx = 10**(-8)\n",
    "    return lambda x: (func(x + dx) - func(x)) / dx \n",
    "    \n",
    "f4dx = num_diff(f2)\n",
    "f4dx(2)"
   ]
  },
  {
   "cell_type": "markdown",
   "metadata": {},
   "source": [
    "## Задание 1.4 (10 баллов)\n",
    "\n",
    "Необходимо разработать систему автоматического тестирования алгоритма дифференцирования в следующем виде:\n",
    "- реализовать механизм генерации \"случайных функций\" (например, что-то вроде такого: $f(x) = x + 5 * x - \\cos(20 * \\log(12 - 20 * x * x )) - 20 * x$ )\n",
    "- сгенерировать достаточно большое число функций и сравнить результаты символьного и численного дифференцирования в случайных точках "
   ]
  },
  {
   "cell_type": "markdown",
   "metadata": {},
   "source": [
    "Генерацию случайных функций можно осуществить, например, двумя путями. \n",
    "1. Генерировать функцию в текстовом виде, зачем использовать встроенную функцию [eval](https://docs.python.org/3/library/functions.html#eval)\n",
    "\n",
    "```python\n",
    "func = eval(\"lambda x: 2 * x + 5\")\n",
    "assert func(42) == 89 \n",
    "```\n",
    "\n",
    "2. Использовать стандартный модуль [ast](https://docs.python.org/3/library/ast.html), который позволяет во время выполнения программы манипулировать [Абстрактным Синтаксическим Деревом](https://ru.wikipedia.org/wiki/%D0%90%D0%B1%D1%81%D1%82%D1%80%D0%B0%D0%BA%D1%82%D0%BD%D0%BE%D0%B5_%D1%81%D0%B8%D0%BD%D1%82%D0%B0%D0%BA%D1%81%D0%B8%D1%87%D0%B5%D1%81%D0%BA%D0%BE%D0%B5_%D0%B4%D0%B5%D1%80%D0%B5%D0%B2%D0%BE).\n",
    "Например, выражение \n",
    "\n",
    "```python\n",
    "func = lambda x: 2 * x + 5\n",
    "```\n",
    "\n",
    "Можно запрограммировать с помощью кода:\n",
    "\n",
    "```python\n",
    "\n",
    "expr = ast.Expression(\n",
    "    body=ast.Lambda(\n",
    "        args=ast.arguments(\n",
    "            args=[\n",
    "                ast.arg(arg='x')\n",
    "            ],\n",
    "            posonlyargs=[],\n",
    "            kwonlyargs=[],\n",
    "            kw_defaults=[],\n",
    "            defaults=[]\n",
    "        ),\n",
    "        body=ast.BinOp(\n",
    "            left=ast.BinOp(\n",
    "                left=ast.Constant(value=2),\n",
    "                op=ast.Mult(),\n",
    "                right=ast.Name(id='x', ctx=ast.Load())\n",
    "            ),\n",
    "            op=ast.Add(),\n",
    "            right=ast.Constant(value=5)\n",
    "        )\n",
    "    )\n",
    ")\n",
    "\n",
    "ast.fix_missing_locations(expr)\n",
    "\n",
    "func = eval(compile(expr, filename=\"\", mode=\"eval\"))\n",
    "\n",
    "assert func(42) == 89\n",
    "```\n",
    "\n",
    "При реализации нужно учитывать области допустимых значений функций."
   ]
  },
  {
   "cell_type": "code",
   "execution_count": 31,
   "metadata": {},
   "outputs": [],
   "source": [
    "import random\n",
    "\n",
    "def func_generator(res: str, n: Number) -> str:\n",
    "    operators = [\" + \", \" - \", \" * \", \" / \", \" ** \"]\n",
    "    functions = [\"x\", \"sin\", \"cos\", \"exp\", \"log\"]\n",
    "    weights = [70, 10, 10, 5, 5] # вероятности для каждой из операций и функции\n",
    "    \n",
    "    # n – количество операций\n",
    "    for i in range(n):\n",
    "        coef = str(round(random.uniform(0.5, 1), 2))\n",
    "        oper = random.choices(operators, weights=weights)[0]\n",
    "        func = random.choices(functions, weights=weights)[0]\n",
    "        \n",
    "        if i > 0 and i < n:\n",
    "            coef2 = str(random.uniform(0.5, 1))\n",
    "            oper2 = random.choices(operators, weights=weights)[0]\n",
    "            func2 = random.choices(functions, weights=weights)[0]\n",
    "            res = res + oper2\n",
    "\n",
    "        #Если функция содержит в себе аргумент, то вызываем рекурсивно\n",
    "        if func != \"x\":\n",
    "            res = res + coef + oper + func\n",
    "            res = func_generator(res + \"(\", max(n // 2, 1))\n",
    "            res = res + \")\" \n",
    "        else:\n",
    "            res = res + coef + oper + func\n",
    "            \n",
    "    return res "
   ]
  },
  {
   "cell_type": "code",
   "execution_count": 32,
   "metadata": {},
   "outputs": [
    {
     "name": "stdout",
     "output_type": "stream",
     "text": [
      "1\n",
      "Cгенерированная функция: lambda x: 0.73 * x - 0.95 + x + 0.84 + x\n",
      "2.73 значение производной в точке 3.1\n",
      "2.73 численное значение производной в точке 3.1\n",
      "\n",
      "2\n",
      "Cгенерированная функция: lambda x: 0.91 + x / 0.64 / x\n",
      "0.0 значение производной в точке 2.77\n",
      "0.0 численное значение производной в точке 2.77\n",
      "\n",
      "3\n",
      "Cгенерированная функция: lambda x: 0.78 + x + 0.72 * x\n",
      "1.72 значение производной в точке 8.02\n",
      "1.72 численное значение производной в точке 8.02\n",
      "\n",
      "4\n",
      "Cгенерированная функция: lambda x: 0.61 + x + 0.7 + x\n",
      "2.0 значение производной в точке 8.73\n",
      "2.0 численное значение производной в точке 8.73\n",
      "\n",
      "5\n",
      "Cгенерированная функция: lambda x: 0.59 + cos(0.57 + exp(0.77 / sin(0.72 + x)))\n",
      "-0.503145 значение производной в точке 3.45\n",
      "-0.182755 численное значение производной в точке 3.45\n",
      "\n",
      "6\n",
      "Cгенерированная функция: lambda x: 0.71 + x\n",
      "1.0 значение производной в точке 2.12\n",
      "1.0 численное значение производной в точке 2.12\n",
      "\n",
      "7\n",
      "Cгенерированная функция: lambda x: 0.91 + x + 0.94 + x + 0.94 + x\n",
      "3.0 значение производной в точке 3.92\n",
      "3.0 численное значение производной в точке 3.92\n",
      "\n",
      "8\n",
      "Cгенерированная функция: lambda x: 0.99 + x\n",
      "1.0 значение производной в точке 8.94\n",
      "1.0 численное значение производной в точке 8.94\n",
      "\n",
      "9\n",
      "Cгенерированная функция: lambda x: 0.5 / sin(0.64 + x) + 0.74 + x + 0.7 + x\n",
      "2.597133 значение производной в точке 3.08\n",
      "3.400829 численное значение производной в точке 3.08\n",
      "\n",
      "10\n",
      "Cгенерированная функция: lambda x: 0.97 + x + 0.99 + x\n",
      "2.0 значение производной в точке 2.27\n",
      "2.0 численное значение производной в точке 2.27\n",
      "\n"
     ]
    }
   ],
   "source": [
    "i = 0\n",
    "while i < 10:\n",
    "    n = random.randint(1, 3)\n",
    "    try:\n",
    "        generated_func = func_generator(\"lambda x: \", n)\n",
    "        test_point = round(random.uniform(0, 10), 2) # Тестовая точка\n",
    "        test_func = eval(generated_func) # Тестовая функция\n",
    "\n",
    "        #Значение производной, полученное двумя способами\n",
    "        test_diff = diff(test_func) \n",
    "        test_num_diff = num_diff(test_func)\n",
    "        \n",
    "        res_value = test_diff(test_point)\n",
    "        res_num_value = test_num_diff(test_point)\n",
    "\n",
    "        i+=1\n",
    "        print(i)\n",
    "        print(\"Cгенерированная функция:\", generated_func)\n",
    "        print(round(res_value, 6), f\"значение производной в точке {test_point}\")\n",
    "        print(round(res_num_value, 6), f\"численное значение производной в точке {test_point}\\n\")\n",
    "\n",
    "    except:\n",
    "        pass"
   ]
  },
  {
   "cell_type": "markdown",
   "metadata": {},
   "source": [
    "## Задание 1.5 (7 баллов)\n",
    "\n",
    "Реализуйте поддержку функций нескольких аргументов. Например\n",
    "\n",
    "```python\n",
    "def f(x: float, y: float, z: float) -> float:\n",
    "    return x * y + z - 5 * y  \n",
    "\n",
    "\n",
    "f_diff = diff(f)\n",
    "\n",
    "f_diff(10, 10, 10) # = [10, 5, 1]\n",
    "```"
   ]
  },
  {
   "cell_type": "code",
   "execution_count": 33,
   "metadata": {},
   "outputs": [],
   "source": [
    "def new_partial_diff(func: Callable[..., float], *args) -> list:\n",
    "    partial_strings = []\n",
    "    partial_derivs = []\n",
    "    #Формируем строки func([args]) для исполнения с помощью eval\n",
    "    for i in range(0, len(args)):\n",
    "        string = 'func('\n",
    "        for j in range(0, len(args)):\n",
    "            if i == j:\n",
    "                string += f'Dual({args[j]}, 1.0)'\n",
    "            else:\n",
    "                string += f'{args[j]}'\n",
    "            if j < len(args) - 1:\n",
    "                string += ', '\n",
    "        string += ')'\n",
    "        partial_strings.append(string)\n",
    "\n",
    "    #Добавляем частные производные в список\n",
    "    for s in partial_strings:\n",
    "        partial_derivs.append(eval(s).d)\n",
    "\n",
    "    return partial_derivs\n"
   ]
  },
  {
   "cell_type": "code",
   "execution_count": 34,
   "metadata": {},
   "outputs": [
    {
     "name": "stdout",
     "output_type": "stream",
     "text": [
      "[10.0, 5.0, 1.0]\n",
      "[-11982.862390657456, -18476.78033459865, 0.5440211108893698, 80.0]\n",
      "[0.0, 2.718281828459045]\n"
     ]
    }
   ],
   "source": [
    "def f(x: float, y: float, z: float) -> float:\n",
    "    return x * y + z - 5 * y  \n",
    "\n",
    "def f2(x: float, y: float, z: float, w: float) -> float:\n",
    "    return exp(x) * sin(y) + cos(z) - 5 / y + w ** 5 \n",
    "\n",
    "def f3(x: float, y: float) -> float:\n",
    "    return exp(x) * sin(y) \n",
    "\n",
    "args = (10, 10, 10)\n",
    "part_derivs1 = new_partial_diff(f, *args)\n",
    "print(part_derivs1)\n",
    "\n",
    "args2 = (10, 10, 10, -2)\n",
    "part_derivs2 = new_partial_diff(f2, *args2)\n",
    "print(part_derivs2)\n",
    "\n",
    "args3 = (1, 0)\n",
    "part_derivs3 = new_partial_diff(f3, *args3)\n",
    "print(part_derivs3)"
   ]
  }
 ],
 "metadata": {
  "kernelspec": {
   "display_name": "Python 3 (ipykernel)",
   "language": "python",
   "name": "python3"
  },
  "language_info": {
   "codemirror_mode": {
    "name": "ipython",
    "version": 3
   },
   "file_extension": ".py",
   "mimetype": "text/x-python",
   "name": "python",
   "nbconvert_exporter": "python",
   "pygments_lexer": "ipython3",
   "version": "3.9.7"
  },
  "vscode": {
   "interpreter": {
    "hash": "b0fa6594d8f4cbf19f97940f81e996739fb7646882a419484c72d19e05852a7e"
   }
  }
 },
 "nbformat": 4,
 "nbformat_minor": 2
}
