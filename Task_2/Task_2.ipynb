{
 "cells": [
  {
   "cell_type": "markdown",
   "metadata": {},
   "source": [
    "# Задание 2.\n",
    "\n",
    "**NB. Все упражнения ниже нужно делать без использования циклов Python в явном (`while`, `for`) и неявном виде (list comprehension, `map`, `reduce` и пр)**\n",
    "\n",
    "Задания по манипуляциям с массивами чаще всего решаются в одно/два выражения. "
   ]
  },
  {
   "cell_type": "code",
   "execution_count": 8,
   "metadata": {},
   "outputs": [],
   "source": [
    "%matplotlib inline\n",
    "\n",
    "import numpy as np\n",
    "import matplotlib.pyplot as plt\n",
    "import seaborn as sns\n",
    "sns.set_theme()"
   ]
  },
  {
   "cell_type": "code",
   "execution_count": 9,
   "metadata": {},
   "outputs": [
    {
     "data": {
      "text/plain": [
       "array([[81, 71,  8, ..., 87,  2, 69],\n",
       "       [ 2,  9, 57, ..., 80, 57, 82],\n",
       "       [12, 32, 58, ..., 51, 50, 13],\n",
       "       ...,\n",
       "       [91, 57, 61, ..., 44, 29, 18],\n",
       "       [77, 13, 45, ..., 15, 41, 21],\n",
       "       [77, 88, 96, ..., 77, 22, 66]])"
      ]
     },
     "execution_count": 9,
     "metadata": {},
     "output_type": "execute_result"
    }
   ],
   "source": [
    "A = np.random.randint(0, 100, size=(200, 50))\n",
    "A"
   ]
  },
  {
   "cell_type": "markdown",
   "metadata": {},
   "source": [
    "# Задание 2.1 (2 балла)\n",
    "\n",
    "Сгенерируйте новый массив, в котором столбцы массива `A` переставлены в случайном порядке"
   ]
  },
  {
   "cell_type": "code",
   "execution_count": 10,
   "metadata": {},
   "outputs": [
    {
     "name": "stdout",
     "output_type": "stream",
     "text": [
      "[[70 10 64 24 60]\n",
      " [62 54 23 81 63]\n",
      " [42 97 81 31 43]\n",
      " [72 51 11 46 75]] \n",
      "\n",
      "[[10 70 24 60 64]\n",
      " [54 62 81 63 23]\n",
      " [97 42 31 43 81]\n",
      " [51 72 46 75 11]]\n"
     ]
    }
   ],
   "source": [
    "A = np.random.randint(0, 100, size=(4, 5))\n",
    "perm = np.random.permutation(A.shape[1])\n",
    "A_perm = A[:, perm]\n",
    "\n",
    "print(A, \"\\n\")\n",
    "print(A_perm)"
   ]
  },
  {
   "cell_type": "markdown",
   "metadata": {},
   "source": [
    "# Задание 2.2 (5 баллов)\n",
    "\n",
    "Сгенерируйте новый массив, который содержит только те строки массива `A`, в которых: \n",
    "- сумма элементов по четным столбцам (индексы $0, 2, \\ldots$) больше среднего значения (по всему массиву) суммы элементов по нечетным столбцам (индексы $1, 3, \\ldots$) "
   ]
  },
  {
   "cell_type": "code",
   "execution_count": 11,
   "metadata": {},
   "outputs": [
    {
     "name": "stdout",
     "output_type": "stream",
     "text": [
      "Среднее значение суммы элементов по нечетным столбцам: 56.0\n",
      "Сумма элементов по четным столбцам: [155 165 180 104]\n",
      "\n",
      "Исходный массив A:\n",
      "[[47 31 35 35 73]\n",
      " [55 10 51 65 59]\n",
      " [46 17 61  1 73]\n",
      " [45 65 14  0 45]]\n",
      "\n",
      "Подходящие строки:\n",
      "[[47 31 35 35 73]\n",
      " [55 10 51 65 59]\n",
      " [46 17 61  1 73]\n",
      " [45 65 14  0 45]]\n"
     ]
    }
   ],
   "source": [
    "A = np.random.randint(0, 100, size=(4, 5))\n",
    "\n",
    "#Суммы по четным и нечетным столбцам\n",
    "sum_of_even_cols = np.sum(A[:, ::2], axis=1)\n",
    "sum_of_odd_cols = np.sum(A[:, 1::2], axis=1)\n",
    "\n",
    "#Среднее значение суммы элементов по нечетным столбцам\n",
    "mean_of_odd_cols = np.mean(sum_of_odd_cols)\n",
    "\n",
    "#Выбираем столбцы, удовлетворяющие условию\n",
    "new_rows = A[sum_of_even_cols > mean_of_odd_cols]\n",
    "\n",
    "print(\"Среднее значение суммы элементов по нечетным столбцам:\", mean_of_odd_cols)\n",
    "print(\"Сумма элементов по четным столбцам:\", sum_of_even_cols)\n",
    "\n",
    "print(\"\\nИсходный массив A:\")\n",
    "print(A)\n",
    "print(\"\\nПодходящие строки:\")\n",
    "print(new_rows)"
   ]
  },
  {
   "cell_type": "markdown",
   "metadata": {},
   "source": [
    "# Задача 2.3 (3 балла)\n",
    "\n",
    "Найдите индекс строки массива `A`, в которой разница между максимальным и минимальным элементом максимальна"
   ]
  },
  {
   "cell_type": "code",
   "execution_count": 12,
   "metadata": {},
   "outputs": [
    {
     "name": "stdout",
     "output_type": "stream",
     "text": [
      "[[84 71 31 82 47]\n",
      " [60 52 56 70 94]\n",
      " [16 86 47 33 92]\n",
      " [51 14 42  4 34]]\n",
      "\n",
      "Разница: [53 42 76 47]\n",
      "Искомый индекс: 2\n"
     ]
    }
   ],
   "source": [
    "A = np.random.randint(0, 100, size=(4, 5))\n",
    "row_diff = np.max(A, axis=1) - np.min(A, axis=1)\n",
    "result = np.argmax(row_diff)\n",
    "\n",
    "print(A)\n",
    "print(\"\\nРазница:\", row_diff)\n",
    "print(\"Искомый индекс:\", result)"
   ]
  },
  {
   "cell_type": "markdown",
   "metadata": {},
   "source": [
    "# Задание 2.4 (7 баллов)\n",
    "\n",
    "Сгенерируйте массив той же размерности, что и `A`, но в котором каждый элемент заменен на его порядковый номер (начиная с 1) в отсортированном по возрастанию массиве из элементов `A`\n",
    "\n",
    "Если `A` выглядит так:\n",
    "$$\n",
    "\\begin{pmatrix}\n",
    "12 & 14\\\\\n",
    "1 & 2\n",
    "\\end{pmatrix}\n",
    "$$\n",
    "то результат должен быть\n",
    "$$\n",
    "\\begin{pmatrix}\n",
    "3 & 4\\\\\n",
    "1 & 2\n",
    "\\end{pmatrix}\n",
    "$$\n",
    "\n",
    "*Tip: рассмотрите возможность неоднократного применения [argsort()](https://numpy.org/doc/stable/reference/generated/numpy.ndarray.argsort.html)*"
   ]
  },
  {
   "cell_type": "code",
   "execution_count": 13,
   "metadata": {},
   "outputs": [
    {
     "name": "stdout",
     "output_type": "stream",
     "text": [
      "Исходная матрица:\n",
      " [[91 62 19]\n",
      " [93  1  2]]\n",
      "Отсортированная:\n",
      " [[4 3 2]\n",
      " [5 0 1]]\n"
     ]
    }
   ],
   "source": [
    "A = np.random.randint(0, 100, size=(2, 3))\n",
    "A_flat = A.flatten()\n",
    "\n",
    "A_flat_sorted = np.argsort(A_flat, kind='stable', axis=-1)\n",
    "A_flat_sorted2 = np.argsort(A_flat_sorted, kind='stable', axis=-1) \n",
    "result = np.resize(A_flat_sorted2, (np.shape(A)))\n",
    "\n",
    "print(\"Исходная матрица:\\n\", A)\n",
    "print(\"Отсортированная:\\n\", result)"
   ]
  },
  {
   "cell_type": "markdown",
   "metadata": {},
   "source": [
    "# Задание 2.5 (2 балла)\n",
    "\n",
    "Примените $\\min-\\max$ - нормализацию к строкам массива `A`. То есть нужно получить новый массивы, в каждой строке которого максимальный элементы равен $1$, минимальный - $0$. "
   ]
  },
  {
   "cell_type": "code",
   "execution_count": 14,
   "metadata": {},
   "outputs": [
    {
     "name": "stdout",
     "output_type": "stream",
     "text": [
      "Массив A:\n",
      " [[45  2  4 22 99]\n",
      " [92  7 19 69 38]\n",
      " [ 9 18 66  2 35]\n",
      " [15 99  5 78 30]]\n",
      "Нормализованный массив:\n",
      " [[0.44329897 0.         0.02061856 0.20618557 1.        ]\n",
      " [1.         0.         0.14117647 0.72941176 0.36470588]\n",
      " [0.109375   0.25       1.         0.         0.515625  ]\n",
      " [0.10638298 1.         0.         0.77659574 0.26595745]]\n"
     ]
    }
   ],
   "source": [
    "A = np.random.randint(0, 100, size=(4, 5))\n",
    "min_vals = np.min(A, axis=1, keepdims=True)\n",
    "max_vals = np.max(A, axis=1, keepdims=True)\n",
    "result = (A - min_vals) / (max_vals - min_vals)\n",
    "\n",
    "print(\"Массив A:\\n\", A)\n",
    "print(\"Нормализованный массив:\\n\", result)"
   ]
  },
  {
   "cell_type": "markdown",
   "metadata": {},
   "source": [
    "# Задание 2.6 (2 балла)\n",
    "\n",
    "Сгенерируйте новый трехмерный массив, размерности $10 \\times 200 \\times 50$. Подмассивы по нулевой оси должны состоять из элементов `A`, умноженных на $1 - 10$ соответственно"
   ]
  },
  {
   "cell_type": "code",
   "execution_count": 15,
   "metadata": {},
   "outputs": [
    {
     "name": "stdout",
     "output_type": "stream",
     "text": [
      "[[26 25 14 ...  8 13 49]\n",
      " [11 71 15 ... 22 56 66]\n",
      " [80 91  7 ... 22 32 87]\n",
      " ...\n",
      " [99 74  6 ...  1 12 11]\n",
      " [33 32 80 ... 59 20 82]\n",
      " [23 12  5 ... 55  5 85]]\n",
      "\n",
      "Новый массив: (10, 200, 50)\n",
      "[[[ 26.  25.  14. ...   8.  13.  49.]\n",
      "  [ 11.  71.  15. ...  22.  56.  66.]\n",
      "  [ 80.  91.   7. ...  22.  32.  87.]\n",
      "  ...\n",
      "  [ 99.  74.   6. ...   1.  12.  11.]\n",
      "  [ 33.  32.  80. ...  59.  20.  82.]\n",
      "  [ 23.  12.   5. ...  55.   5.  85.]]\n",
      "\n",
      " [[ 52.  50.  28. ...  16.  26.  98.]\n",
      "  [ 22. 142.  30. ...  44. 112. 132.]\n",
      "  [160. 182.  14. ...  44.  64. 174.]\n",
      "  ...\n",
      "  [198. 148.  12. ...   2.  24.  22.]\n",
      "  [ 66.  64. 160. ... 118.  40. 164.]\n",
      "  [ 46.  24.  10. ... 110.  10. 170.]]\n",
      "\n",
      " [[ 78.  75.  42. ...  24.  39. 147.]\n",
      "  [ 33. 213.  45. ...  66. 168. 198.]\n",
      "  [240. 273.  21. ...  66.  96. 261.]\n",
      "  ...\n",
      "  [297. 222.  18. ...   3.  36.  33.]\n",
      "  [ 99.  96. 240. ... 177.  60. 246.]\n",
      "  [ 69.  36.  15. ... 165.  15. 255.]]\n",
      "\n",
      " ...\n",
      "\n",
      " [[208. 200. 112. ...  64. 104. 392.]\n",
      "  [ 88. 568. 120. ... 176. 448. 528.]\n",
      "  [640. 728.  56. ... 176. 256. 696.]\n",
      "  ...\n",
      "  [792. 592.  48. ...   8.  96.  88.]\n",
      "  [264. 256. 640. ... 472. 160. 656.]\n",
      "  [184.  96.  40. ... 440.  40. 680.]]\n",
      "\n",
      " [[234. 225. 126. ...  72. 117. 441.]\n",
      "  [ 99. 639. 135. ... 198. 504. 594.]\n",
      "  [720. 819.  63. ... 198. 288. 783.]\n",
      "  ...\n",
      "  [891. 666.  54. ...   9. 108.  99.]\n",
      "  [297. 288. 720. ... 531. 180. 738.]\n",
      "  [207. 108.  45. ... 495.  45. 765.]]\n",
      "\n",
      " [[260. 250. 140. ...  80. 130. 490.]\n",
      "  [110. 710. 150. ... 220. 560. 660.]\n",
      "  [800. 910.  70. ... 220. 320. 870.]\n",
      "  ...\n",
      "  [990. 740.  60. ...  10. 120. 110.]\n",
      "  [330. 320. 800. ... 590. 200. 820.]\n",
      "  [230. 120.  50. ... 550.  50. 850.]]]\n"
     ]
    }
   ],
   "source": [
    "n = 10\n",
    "A = np.random.randint(0, 100, size=(200, 50))\n",
    "result = np.linspace(A, A * n, n)\n",
    "\n",
    "print(A)\n",
    "print(\"\\nНовый массив:\", np.shape(result))\n",
    "print(result)"
   ]
  },
  {
   "cell_type": "markdown",
   "metadata": {},
   "source": [
    "# Задание 2.7 (2 балла)\n",
    "\n",
    "Создайте новый массив, такой же размерности, как и `A`, в котором сначала сгруппированы четные столбцы `A`, потом  нечетные. Используйте [np.concat()](https://numpy.org/doc/stable/reference/generated/numpy.concatenate.html) "
   ]
  },
  {
   "cell_type": "code",
   "execution_count": 16,
   "metadata": {},
   "outputs": [
    {
     "name": "stdout",
     "output_type": "stream",
     "text": [
      "Массив A:\n",
      "[[ 1 64 47  7 34 32]\n",
      " [91 94 58 27 75 92]\n",
      " [15 15 75 88 72 94]]\n",
      "\n",
      "Новый массив:\n",
      "[[ 1 47 34 64  7 32]\n",
      " [91 58 75 94 27 92]\n",
      " [15 75 72 15 88 94]]\n"
     ]
    }
   ],
   "source": [
    "A = np.random.randint(0, 100, size=(3, 6))\n",
    "\n",
    "#(Нумерация с нулевого столбца)\n",
    "even_cols = A[:, ::2]\n",
    "odd_cols = A[:, 1::2]\n",
    "result = np.concatenate((even_cols, odd_cols), axis=1)\n",
    "\n",
    "print(\"Массив A:\")\n",
    "print(A)\n",
    "print(\"\\nНовый массив:\")\n",
    "print(result)"
   ]
  },
  {
   "cell_type": "markdown",
   "metadata": {},
   "source": [
    "# Задание 2.8 (2 балла)\n",
    "\n",
    "Посчитайте количество строк массива `A`, в который все элементы больше 5. Используйте [np.all()](https://numpy.org/doc/stable/reference/generated/numpy.all.html) "
   ]
  },
  {
   "cell_type": "code",
   "execution_count": 17,
   "metadata": {},
   "outputs": [
    {
     "name": "stdout",
     "output_type": "stream",
     "text": [
      "[[ 2 49 10]\n",
      " [36 42  6]\n",
      " [ 5 28 28]\n",
      " [48  5 42]\n",
      " [ 7 41 14]]\n",
      "Количество строк: 2\n"
     ]
    }
   ],
   "source": [
    "A = np.random.randint(0, 50, size=(5, 3))\n",
    "result = np.sum(np.all(A > 5, axis=1))\n",
    "print(A)\n",
    "print(\"Количество строк:\", result)"
   ]
  },
  {
   "cell_type": "markdown",
   "metadata": {},
   "source": [
    "# Задание 2.9 (2 балла)\n",
    "\n",
    "Поделите массив `A` горизонтально на 10 частей и создайте новый массив размерности $20 \\times 50$, который является средним этих частей. Используйте [np.split()](https://numpy.org/doc/stable/reference/generated/numpy.split.html)"
   ]
  },
  {
   "cell_type": "code",
   "execution_count": 18,
   "metadata": {},
   "outputs": [
    {
     "name": "stdout",
     "output_type": "stream",
     "text": [
      "(200, 50)\n",
      "(10, 20, 50)\n",
      "(20, 50)\n"
     ]
    }
   ],
   "source": [
    "A = np.random.randint(0, 100, size=(200, 50))\n",
    "split_A = np.split(A, 10, axis=0)\n",
    "result = np.mean(split_A, axis=0)\n",
    "\n",
    "print(np.shape(A))\n",
    "print(np.shape(split_A))\n",
    "print(np.shape(result))"
   ]
  },
  {
   "cell_type": "markdown",
   "metadata": {},
   "source": [
    "# Задание 2.10 (4 балла)\n",
    "\n",
    "\"Разверните\" массив `A` в одномерный массив. Оставьте в нём только уникальные элементы в том же порядке, в котором они встречаются в массиве. Используйте [np.unique()](https://numpy.org/doc/stable/reference/generated/numpy.unique.html)"
   ]
  },
  {
   "cell_type": "code",
   "execution_count": 19,
   "metadata": {},
   "outputs": [
    {
     "name": "stdout",
     "output_type": "stream",
     "text": [
      "Массив:\n",
      " [[1 1 4 6 5]\n",
      " [8 5 5 2 4]\n",
      " [4 5 4 0 1]]\n",
      "Значения в порядке появления: [1 4 6 5 8 2 0]\n"
     ]
    }
   ],
   "source": [
    "A = np.random.randint(0, 10, size=(3, 5))\n",
    "vals, idx = np.unique(A, return_index=True)\n",
    "result = vals[np.argsort(idx)]\n",
    "\n",
    "print(\"Массив:\\n\", A)\n",
    "print(\"Значения в порядке появления:\", result)"
   ]
  },
  {
   "cell_type": "markdown",
   "metadata": {},
   "source": [
    "# Задание 2.11 (3 балла)\n",
    "\n",
    "Создайте одномерный массив размерности $200$, в котором каждый элемент - евклидово расстояние между соответствующей строкой `A` и \"средней\" строкой `A`"
   ]
  },
  {
   "cell_type": "code",
   "execution_count": 20,
   "metadata": {},
   "outputs": [
    {
     "data": {
      "text/plain": [
       "(200,)"
      ]
     },
     "execution_count": 20,
     "metadata": {},
     "output_type": "execute_result"
    }
   ],
   "source": [
    "A = np.random.randint(0, 100, size=(200, 50))\n",
    "mean_row = np.mean(A, axis=0)\n",
    "res = np.array(np.linalg.norm(A - mean_row, axis=1))\n",
    "np.shape(res)"
   ]
  },
  {
   "cell_type": "markdown",
   "metadata": {},
   "source": [
    "# Задание 2.12 (2 балла)\n",
    "\n",
    "Создайте новый массив, который состоит из элементов `A`, измененных по следующим правилам:\n",
    "- если элемент меньше $50$, то он умножается на $2$\n",
    "- в противном случае он умножается на $3$\n",
    "\n",
    "Используйте [np.where()](https://numpy.org/doc/stable/reference/generated/numpy.where.html)"
   ]
  },
  {
   "cell_type": "code",
   "execution_count": 21,
   "metadata": {},
   "outputs": [
    {
     "name": "stdout",
     "output_type": "stream",
     "text": [
      "Массив A:\n",
      "[[30 93  7 21]\n",
      " [32 66 78 25]\n",
      " [ 1  8 19 28]\n",
      " [29 85 15 76]]\n",
      "Новый массив:\n",
      "[[ 60 279  14  42]\n",
      " [ 64 198 234  50]\n",
      " [  2  16  38  56]\n",
      " [ 58 255  30 228]]\n"
     ]
    }
   ],
   "source": [
    "A = np.random.randint(0, 100, size=(4, 4))\n",
    "result = np.where(A < 50, A * 2, A * 3)\n",
    "\n",
    "print(\"Массив A:\")\n",
    "print(A)\n",
    "print(\"Новый массив:\")\n",
    "print(result)"
   ]
  },
  {
   "cell_type": "markdown",
   "metadata": {},
   "source": [
    "# Задание 2.13 (7 баллов)\n",
    "\n",
    "Разверните массив `A` в одномерный массив. Создайте три новых массива, подсчитав скользящие средние по окнам $3$, $5$, $10$. Найдите сумму этих массивов, выровнив из размерности нулями справа\n",
    "\n",
    "*Tip: реализуйте функцию, которая считает скользящее среднее. Используйте [np.cumsum()](https://numpy.org/doc/stable/reference/generated/numpy.cumsum.html) или [np.convolve()](https://numpy.org/doc/stable/reference/generated/numpy.convolve.html)*"
   ]
  },
  {
   "cell_type": "code",
   "execution_count": 32,
   "metadata": {},
   "outputs": [
    {
     "name": "stdout",
     "output_type": "stream",
     "text": [
      "Сумма скользящих средних: [129.16666667 136.46666667 157.53333333 ...  77.13333333  35.33333333\n",
      "  28.33333333]\n",
      "9998\n"
     ]
    }
   ],
   "source": [
    "A = np.random.randint(0, 100, size=(200, 50))\n",
    "flattened_A = A.flatten()\n",
    "\n",
    "def moving_average(data, window_size):\n",
    "    window = np.ones(window_size) / window_size\n",
    "    res = np.convolve(data, window, mode='valid')\n",
    "    return res\n",
    "\n",
    "# Вычисляем скользящие средние с окнами 3, 5 и 10\n",
    "window_sizes = [3, 5, 10]\n",
    "moving_avgs = [moving_average(flattened_A, window_size) for window_size in window_sizes]\n",
    "\n",
    "# Найдем максимальную длину скользящих средних\n",
    "max_length = max(len(avg) for avg in moving_avgs)\n",
    "\n",
    "# Выравниваем их по максимальной длине, добавляя нули справа\n",
    "aligned_moving_avgs = [np.pad(avg, (0, max_length - len(avg)), 'constant', constant_values=(0, 0)) for avg in moving_avgs]\n",
    "\n",
    "# Находим сумму выровненных скользящих средних\n",
    "sum_of_moving_avgs = np.sum(aligned_moving_avgs, axis=0)\n",
    "print(\"Сумма скользящих средних:\", sum_of_moving_avgs)\n",
    "print(len(sum_of_moving_avgs))"
   ]
  },
  {
   "cell_type": "markdown",
   "metadata": {},
   "source": [
    "# Задание 2.14 (8 баллов)\n",
    "\n",
    "Постройте график функции $$f(x) = (5  \\sin(2x) - \\cos^2(x) - 1 + |x^3| - x^2) / (x^2 + 1)$$  \n",
    "\n",
    "и производной от этой функции.  Найдите минимум с помощью `scipy` и обозначьте его на графике. На этой же оси постройте графики скользящего среднего этой функции с окном $1$, $2$, $5$."
   ]
  },
  {
   "cell_type": "code",
   "execution_count": 23,
   "metadata": {},
   "outputs": [
    {
     "name": "stderr",
     "output_type": "stream",
     "text": [
      "/var/folders/md/1x4hwqds2gv4pztv494qc23r0000gn/T/ipykernel_5832/1852376592.py:8: DeprecationWarning: scipy.misc.derivative is deprecated in SciPy v1.10.0; and will be completely removed in SciPy v1.12.0. You may consider using findiff: https://github.com/maroba/findiff or numdifftools: https://github.com/pbrod/numdifftools\n",
      "  return derivative(f, x, dx=1e-6)\n"
     ]
    },
    {
     "data": {
      "image/png": "[encoded data removed]",
      "text/plain": [
       "<Figure size 800x500 with 1 Axes>"
      ]
     },
     "metadata": {},
     "output_type": "display_data"
    }
   ],
   "source": [
    "from scipy.misc import derivative\n",
    "from scipy.optimize import minimize\n",
    "\n",
    "def f(x):\n",
    "    return (5 * np.sin(2 * x) - np.cos(2 * x) - 1 + np.abs(x**3) - x**2) / (x**2 + 1)\n",
    "\n",
    "def f_prime(x):\n",
    "    return derivative(f, x, dx=1e-6)\n",
    "\n",
    "x = np.linspace(-10, 10, 1000)\n",
    "y = f(x)\n",
    "y_prime = f_prime(x)\n",
    "min_result = minimize(f, x0=0)\n",
    "\n",
    "moving_agv_1 = np.convolve(y, np.ones(1)/1, mode='same')\n",
    "moving_agv_2 = np.convolve(y, np.ones(2)/2, mode='same')\n",
    "moving_agv_5 = np.convolve(y, np.ones(5)/5, mode='same')\n",
    "\n",
    "\n",
    "plt.figure(figsize=(8, 5))\n",
    "plt.plot(x, y, label='f(x)', linewidth=6)\n",
    "plt.plot(x, y_prime, label=\"f'(x)\")\n",
    "plt.plot(x, moving_agv_1, label='Window 1', linewidth=4)\n",
    "plt.plot(x, moving_agv_2, label='Window 2', linewidth=2)\n",
    "plt.plot(x, moving_agv_5, label='Window 5', linewidth=1)\n",
    "plt.scatter(min_result.x, min_result.fun, color='black', marker='o', label='Minimum', s=100)\n",
    "plt.xlabel('x')\n",
    "plt.ylabel('y')\n",
    "plt.legend()\n",
    "plt.title('Графики функции, производной и скользящих средних')\n",
    "plt.grid(True)\n",
    "plt.show()\n"
   ]
  },
  {
   "cell_type": "markdown",
   "metadata": {},
   "source": [
    "# Задание 2.15 (10 баллов)\n",
    "\n",
    "Есть следующий алгоритм семплинирования, на вход функции подается вектор из целых положительных чисел и число семплов."
   ]
  },
  {
   "cell_type": "code",
   "execution_count": 24,
   "metadata": {},
   "outputs": [
    {
     "data": {
      "text/plain": [
       "[0, 4, 0, 0, 0]"
      ]
     },
     "execution_count": 24,
     "metadata": {},
     "output_type": "execute_result"
    }
   ],
   "source": [
    "from typing import List \n",
    "\n",
    "def sample(x: List[int], c: int) -> List[int]:\n",
    "    assert len(x) > 0\n",
    "    \n",
    "    s = np.sum(x)\n",
    "    res = []\n",
    "    for _ in range(c):\n",
    "        val = s * np.random.random()\n",
    "        cur, idx = 0, 0        \n",
    "        while cur + x[idx] <= val:\n",
    "            cur += x[idx]\n",
    "            idx += 1\n",
    "            \n",
    "        res.append(idx)\n",
    "    return res\n",
    "\n",
    "            \n",
    "sample([50, 3, 1, 7, 20], 5)   "
   ]
  },
  {
   "cell_type": "markdown",
   "metadata": {},
   "source": [
    "Реализуйте данный алгоритм более оптимальным способом на массивах `numpy`, без использования циклов. Проверьте корректность и идентичность алгоритмов семплирования с помощью статистических тестов."
   ]
  },
  {
   "cell_type": "code",
   "execution_count": 25,
   "metadata": {},
   "outputs": [
    {
     "name": "stdout",
     "output_type": "stream",
     "text": [
      "Не можем отвергнуть гипотезу о случайной природе полученных различий: p-value = 0.2851222266216554\n"
     ]
    }
   ],
   "source": [
    "from scipy.stats import chisquare\n",
    "\n",
    "def new_sample(x: List[int], c: int) -> List[int]:\n",
    "    assert len(x) > 0\n",
    "    cum_sum_x = np.cumsum(x)\n",
    "    vals = np.random.random(c) * cum_sum_x[-1]\n",
    "\n",
    "    # Нахождение первого такого индекса, что vals < кумулятивной суммы\n",
    "    res = np.argmax(vals[:, np.newaxis] < cum_sum_x, axis=1)\n",
    "\n",
    "    return res.tolist()\n",
    "\n",
    "x = [50, 3, 1, 7, 20]\n",
    "c = 100000\n",
    "\n",
    "samples = sample(x, c)\n",
    "new_samples = new_sample(x, c)\n",
    "\n",
    "hist, _ = np.histogram(samples, bins=len(x))\n",
    "new_hist, _ = np.histogram(new_samples, bins=len(x))\n",
    "\n",
    "# Сравнение гистограмм\n",
    "chi2_stat, p_value = chisquare(f_obs=hist, f_exp=new_hist)\n",
    "\n",
    "if p_value < 0.05:\n",
    "    print(f\"Различия между двумя выборками статистически значимы: p-value = {p_value}\")\n",
    "else:\n",
    "    print(f\"Не можем отвергнуть гипотезу о случайной природе полученных различий: p-value = {p_value}\")"
   ]
  },
  {
   "cell_type": "markdown",
   "metadata": {},
   "source": [
    "# Задание 2.16 (5 баллов)\n",
    "\n",
    "Есть следующий алгоритм \"случайного блуждания\""
   ]
  },
  {
   "cell_type": "code",
   "execution_count": 26,
   "metadata": {},
   "outputs": [
    {
     "data": {
      "text/plain": [
       "1963"
      ]
     },
     "execution_count": 26,
     "metadata": {},
     "output_type": "execute_result"
    }
   ],
   "source": [
    "import random \n",
    "\n",
    "def walk(n: int):\n",
    "    cur_position = 0\n",
    "    for i in range(n):\n",
    "        cur_position += random.choice([-3, -1, 0, 2, 3])\n",
    "\n",
    "    return cur_position\n",
    "\n",
    "walk(10_000)"
   ]
  },
  {
   "cell_type": "markdown",
   "metadata": {},
   "source": [
    "Реализуйте более эффективную версию с помощью `numpy`, сравните производительность (используя, например, magic `timeit`). Воспользовавшись [kdeplot()](https://seaborn.pydata.org/generated/seaborn.kdeplot.html) или аналогами, постройте график распределения значений `walk(10_000)` на каком-то разумном числе запусков. "
   ]
  },
  {
   "cell_type": "code",
   "execution_count": 27,
   "metadata": {},
   "outputs": [
    {
     "name": "stdout",
     "output_type": "stream",
     "text": [
      "Время выполнения оригинального алгоритма: 1.7668 секунд\n",
      "Время выполнения оптимизированного алгоритма: 0.1180 секунд\n"
     ]
    },
    {
     "data": {
      "image/png": "[encoded data removed]",
      "text/plain": [
       "<Figure size 640x480 with 1 Axes>"
      ]
     },
     "metadata": {},
     "output_type": "display_data"
    }
   ],
   "source": [
    "import random\n",
    "import timeit\n",
    "import numpy as np\n",
    "import seaborn as sns\n",
    "import matplotlib.pyplot as plt\n",
    "\n",
    "def new_walk(n: int):\n",
    "    choices = np.random.choice([-3, -1, 0, 2, 3], n)\n",
    "    all_positions = np.cumsum(choices)\n",
    "    return all_positions[-1]\n",
    "\n",
    "n = 10_000\n",
    "num_samples = 500\n",
    "\n",
    "def time_walk():\n",
    "    return [walk(n) for _ in range(num_samples)]\n",
    "\n",
    "def time_new_walk():\n",
    "    return [new_walk(n) for _ in range(num_samples)]\n",
    "\n",
    "time = timeit.timeit(time_walk, number=1)\n",
    "new_time = timeit.timeit(time_new_walk, number=1)\n",
    "\n",
    "print(f\"Время выполнения оригинального алгоритма: {time:.4f} секунд\")\n",
    "print(f\"Время выполнения оптимизированного алгоритма: {new_time:.4f} секунд\")\n",
    "\n",
    "# Генерируем выборку и строим график распределения\n",
    "samples = [new_walk(n) for _ in range(num_samples)]\n",
    "\n",
    "sns.kdeplot(samples, fill=True)\n",
    "plt.xlabel(\"Значения walk(10.000)\")\n",
    "plt.ylabel(\"Плотность вероятности\")\n",
    "plt.title(\"Распределение значений walk(10.000)\")\n",
    "\n",
    "plt.show()"
   ]
  },
  {
   "cell_type": "markdown",
   "metadata": {},
   "source": [
    "# Задание 2.17 (5 баллов)\n",
    "\n",
    "Имеется функция, которая проделывает достаточно странные манипуляции с массивом `numpy`"
   ]
  },
  {
   "cell_type": "code",
   "execution_count": null,
   "metadata": {},
   "outputs": [],
   "source": [
    "import numpy.typing as npt\n",
    "import numpy as np\n",
    "\n",
    "def strange_conv(a: npt.NDArray[np.float64]) -> np.float64:\n",
    "    x = a.shape[0]\n",
    "    y = a.shape[1]\n",
    "\n",
    "    t = 1.\n",
    "    for y in range(y - 5):\n",
    "        for x in range(x - 3):\n",
    "            c = 1.5 * a[y+1, x+2] - a[y+5, x+3] * a[y, x] + 0.2 * a[y+4, x]\n",
    "            t = 0.2 * t + 0.8 * c\n",
    "\n",
    "    return t\n",
    "\n",
    "\n",
    "a = np.random.random((10000, 10000))\n",
    "strange_conv(a)"
   ]
  },
  {
   "cell_type": "markdown",
   "metadata": {},
   "source": [
    "Оптимизируйте данную функцию с помощью (2 на выбор):\n",
    "- [Numba](https://numba.pydata.org)\n",
    "- `Cython` (+5 баллов)\n",
    "- [Taichi](https://github.com/taichi-dev/taichi) (+5 баллов)\n",
    "- `Pythran `[[1]](https://pythran.readthedocs.io/en/latest/), [[2]](https://serge-sans-paille.github.io/pythran-stories/pythran-tutorial.html) (+2 балла)\n",
    "\n",
    "Сравните производительность."
   ]
  },
  {
   "cell_type": "code",
   "execution_count": 30,
   "metadata": {},
   "outputs": [
    {
     "name": "stdout",
     "output_type": "stream",
     "text": [
      "1)Обычная функция: 11.078918933868408 секунд\n",
      "1)Функция с Numba: 0.12341809272766113 секунд\n",
      "1)Функция с Cython: 8.064519166946411 секунд\n",
      "\n",
      "2)Обычная функция: 11.095367193222046 секунд\n",
      "2)Функция с Numba: 0.04547905921936035 секунд\n",
      "2)Функция с Cython: 8.030622005462646 секунд\n",
      "\n",
      "3)Обычная функция: 11.086544752120972 секунд\n",
      "3)Функция с Numba: 0.045517921447753906 секунд\n",
      "3)Функция с Cython: 8.022032737731934 секунд\n",
      "\n"
     ]
    }
   ],
   "source": [
    "import numpy as np\n",
    "from numba import jit\n",
    "from strange_conv_cython import strange_conv_cython\n",
    "import time\n",
    "\n",
    "# Оптимизированная функция с Numba\n",
    "@jit(nopython=True)\n",
    "def numba_strange_conv(a):\n",
    "    x = a.shape[0]\n",
    "    y = a.shape[1]\n",
    "\n",
    "    t = 1.\n",
    "    for y in range(y - 5):\n",
    "        for x in range(x - 3):\n",
    "            c = 1.5 * a[y+1, x+2] - a[y+5, x+3] * a[y, x] + 0.2 * a[y+4, x]\n",
    "            t = 0.2 * t + 0.8 * c\n",
    "    return t\n",
    "\n",
    "for i in range(1, 4):\n",
    "    a = np.random.random((10000, 10000))\n",
    "\n",
    "    # Время выполнения исходной функции\n",
    "    start_time = time.time()\n",
    "    original_result = strange_conv(a)\n",
    "    end_time = time.time()\n",
    "    original_execution_time = end_time - start_time\n",
    "    print(f\"{i})Обычная функция:\", original_execution_time, \"секунд\")\n",
    "\n",
    "    # Время для Numba\n",
    "    start = time.time()\n",
    "    numba_result = numba_strange_conv(a)\n",
    "    end = time.time()\n",
    "    numba_time = end - start\n",
    "    print(f\"{i})Функция с Numba:\", numba_time, \"секунд\")\n",
    "    assert original_result == numba_result\n",
    "\n",
    "    # Время для Cython\n",
    "    start = time.time()\n",
    "    cython_result = strange_conv_cython(a)\n",
    "    end = time.time()\n",
    "    cython_time = end - start\n",
    "    print(f\"{i})Функция с Cython:\", cython_time, \"секунд\\n\")\n",
    "    assert original_result == cython_result    "
   ]
  }
 ],
 "metadata": {
  "kernelspec": {
   "display_name": "Python 3.11.6 64-bit",
   "language": "python",
   "name": "python3"
  },
  "language_info": {
   "codemirror_mode": {
    "name": "ipython",
    "version": 3
   },
   "file_extension": ".py",
   "mimetype": "text/x-python",
   "name": "python",
   "nbconvert_exporter": "python",
   "pygments_lexer": "ipython3",
   "version": "3.11.6"
  },
  "orig_nbformat": 4,
  "vscode": {
   "interpreter": {
    "hash": "b0fa6594d8f4cbf19f97940f81e996739fb7646882a419484c72d19e05852a7e"
   }
  }
 },
 "nbformat": 4,
 "nbformat_minor": 2
}
